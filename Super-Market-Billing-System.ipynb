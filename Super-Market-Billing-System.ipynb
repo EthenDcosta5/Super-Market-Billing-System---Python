{
 "cells": [
  {
   "cell_type": "code",
   "execution_count": null,
   "id": "eb819d7b-f0ef-4a8f-b956-2ae5f9671f31",
   "metadata": {},
   "outputs": [
    {
     "name": "stdout",
     "output_type": "stream",
     "text": [
      "---------------------------------------------\n",
      "Welcome to the Super Market Billing System\n",
      "---------------------------------------------\n"
     ]
    },
    {
     "name": "stdin",
     "output_type": "stream",
     "text": [
      "Enter your name:\n",
      " Ethen\n",
      "Enter your phone number:\n",
      " 9021910212\n"
     ]
    },
    {
     "name": "stdout",
     "output_type": "stream",
     "text": [
      "---------------------------------------------\n",
      "MENU ITEMS & PRICE (INR)\n",
      "---------------------------------------------\n",
      "Apple           40.0         \n",
      "Banana          20.0         \n",
      "Orange          50.0         \n",
      "Bread           30.0         \n",
      "Milk            25.0         \n",
      "Eggs            60.0         \n",
      "Chicken Breast  300.0        \n",
      "Rice            90.0         \n",
      "Pasta           75.0         \n",
      "Tomato          30.0         \n",
      "Onion           20.0         \n",
      "Potato          25.0         \n",
      "Butter          50.0         \n",
      "Cheese          200.0        \n",
      "Yogurt          40.0         \n",
      "Coffee          250.0        \n",
      "Tea             150.0        \n",
      "Chocolate       80.0         \n",
      "Cereal          180.0        \n",
      "Detergent       250.0        \n",
      "---------------------------------------------\n"
     ]
    },
    {
     "name": "stdin",
     "output_type": "stream",
     "text": [
      "Enter item name: Apple\n",
      "Enter quantity: 2\n",
      "Press 1 to add more items \n",
      "Press 2 to print the Receipt\n",
      " 1\n",
      "Enter item name: Rice\n",
      "Enter quantity: 1\n",
      "Press 1 to add more items \n",
      "Press 2 to print the Receipt\n",
      " Onion\n"
     ]
    },
    {
     "name": "stdout",
     "output_type": "stream",
     "text": [
      "Enter valid input\n"
     ]
    },
    {
     "name": "stdin",
     "output_type": "stream",
     "text": [
      "Press 1 to add more items \n",
      "Press 2 to print the Receipt\n",
      " 5\n"
     ]
    },
    {
     "name": "stdout",
     "output_type": "stream",
     "text": [
      "Enter valid input\n"
     ]
    },
    {
     "name": "stdin",
     "output_type": "stream",
     "text": [
      "Press 1 to add more items \n",
      "Press 2 to print the Receipt\n",
      " Eggs\n"
     ]
    },
    {
     "name": "stdout",
     "output_type": "stream",
     "text": [
      "Enter valid input\n"
     ]
    },
    {
     "name": "stdin",
     "output_type": "stream",
     "text": [
      "Press 1 to add more items \n",
      "Press 2 to print the Receipt\n",
      " 1\n",
      "Enter item name: Eggs\n",
      "Enter quantity: 6\n",
      "Press 1 to add more items \n",
      "Press 2 to print the Receipt\n",
      " 1\n",
      "Enter item name: E\n"
     ]
    },
    {
     "name": "stdout",
     "output_type": "stream",
     "text": [
      "Invalid item name\n"
     ]
    },
    {
     "name": "stdin",
     "output_type": "stream",
     "text": [
      "Enter item name: Chocolate\n",
      "Enter quantity: 1\n",
      "Press 1 to add more items \n",
      "Press 2 to print the Receipt\n",
      " 2\n"
     ]
    },
    {
     "name": "stdout",
     "output_type": "stream",
     "text": [
      "\n",
      "\n",
      "------------------ Receipt ------------------\n",
      "Name: Ethen\n",
      "Phone Number: 9021910212\n",
      "---------------------------------------------\n",
      "Item            Quantity    Price     Total       \n",
      "---------------------------------------------\n",
      "Apple           2           40.0      80.0        \n",
      "Rice            1           90.0      90.0        \n",
      "Eggs            6           60.0      360.0       \n",
      "Chocolate       1           80.0      80.0        \n",
      "---------------------------------------------\n",
      "Subtotal: 610.0\n",
      "Discount(5%): -30.5\n",
      "Total Amount: 579.5\n",
      "---------------------------------------------\n",
      "\n",
      "\n",
      "\n",
      "---------------------------------------------\n",
      "Welcome to the Super Market Billing System\n",
      "---------------------------------------------\n"
     ]
    }
   ],
   "source": [
    "#Executes for every new customer\n",
    "while True:\n",
    "    print(\"-\"*45)\n",
    "    print(\"Welcome to the Super Market Billing System\")\n",
    "    print(\"-\"*45)\n",
    "\n",
    "    #Asks name & phone number of the customer\n",
    "    name = input(\"Enter your name:\\n\")\n",
    "    phone = int(input(\"Enter your phone number:\\n\"))\n",
    "    \n",
    "    #Dictionary of menu items from the super market store\n",
    "    menu_items = {\n",
    "        \"Apple\": 40.0,\n",
    "        \"Banana\": 20.0,\n",
    "        \"Orange\": 50.0,\n",
    "        \"Bread\": 30.0,\n",
    "        \"Milk\": 25.0,\n",
    "        \"Eggs\": 60.0,\n",
    "        \"Chicken Breast\": 300.0,\n",
    "        \"Rice\": 90.0,\n",
    "        \"Pasta\": 75.0,\n",
    "        \"Tomato\": 30.0,\n",
    "        \"Onion\": 20.0,\n",
    "        \"Potato\": 25.0,\n",
    "        \"Butter\": 50.0,\n",
    "        \"Cheese\": 200.0,\n",
    "        \"Yogurt\": 40.0,\n",
    "        \"Coffee\": 250.0,\n",
    "        \"Tea\": 150.0,\n",
    "        \"Chocolate\": 80.0,\n",
    "        \"Cereal\": 180.0,\n",
    "        \"Detergent\": 250.0\n",
    "    }\n",
    "\n",
    "    print(\"-\"*45)\n",
    "    print(\"MENU ITEMS & PRICE (INR)\")\n",
    "    print(\"-\"*45)\n",
    "\n",
    "    #Prints the menu for the customer\n",
    "    for i,j in menu_items.items():\n",
    "        print(\"{:<15} {:<13}\".format(i,j))\n",
    "        # print(i,\":\",j)\n",
    "    \n",
    "    print(\"-\"*45)\n",
    "\n",
    "    amount = 0\n",
    "    discount = 0\n",
    "    final_amount = 0\n",
    "    cart = {}\n",
    "    \n",
    "    #Loop used for adding items to the cart of the customer\n",
    "    while True:\n",
    "        flag = 0\n",
    "\n",
    "        #Asks customer for item name\n",
    "        item_name = input(\"Enter item name:\").title()\n",
    "        for item, cost in menu_items.items():\n",
    "            if item_name == item:\n",
    "                flag = 1\n",
    "                break\n",
    "                \n",
    "        #Checks if item name is invalid \n",
    "        if flag == 0:\n",
    "            print(\"Invalid item name\")\n",
    "            continue\n",
    "\n",
    "        #Asks item quantity from the user\n",
    "        quantity = int(input(\"Enter quantity:\"))\n",
    "\n",
    "        if item_name in cart:\n",
    "            cart[item_name] += quantity  # Increment existing quantity\n",
    "        else:\n",
    "            cart[item_name] = quantity  # Add new item with its quantity\n",
    "        \n",
    "        #Calculates initital amount\n",
    "        amount += menu_items[item_name] * quantity\n",
    "\n",
    "        '''\n",
    "        Asks customer to press 1 if more items are to be added to the cart or\n",
    "        Press 2 to print the Receipt \n",
    "        Anything other than 1 or 2 is considered as invalid input and user is requested to re-enter the input\n",
    "        '''\n",
    "        while True:\n",
    "            add_items = input(\"\"\"Press 1 to add more items \\nPress 2 to print the Receipt\\n\"\"\")\n",
    "\n",
    "            if add_items not in (\"1\",\"2\"):\n",
    "                print(\"Enter valid input\")\n",
    "            else:\n",
    "                break\n",
    "            \n",
    "        \n",
    "        #If customer does not want to add more items, the receipt gets printed\n",
    "        if add_items == \"2\":\n",
    "            print(\"\\n\")\n",
    "            print(\"-\"*18, \"Receipt\", \"-\"*18)\n",
    "            print(\"Name:\",name)\n",
    "            print(\"Phone Number:\",phone)\n",
    "            print(\"-\"*45)\n",
    "            #Prints Headers (Item, Quantity, Price, Total)\n",
    "            print(\"{:<15} {:<11} {:<9} {:<12}\".format(\"Item\", \"Quantity\", \"Price\", \"Total\"))\n",
    "            cart\n",
    "            print(\"-\"*45)\n",
    "            #Prints Items from the cart\n",
    "            for x,y in cart.items():\n",
    "                print(\"{:<15} {:<11} {:<9} {:<12}\".format(x, y, menu_items[x], y*menu_items[x]))\n",
    "            print(\"-\"*45)\n",
    "            #Prints initial amount\n",
    "            print(\"Subtotal:\",amount)\n",
    "            \n",
    "            #Calculates discount\n",
    "            if amount >= 1000: \n",
    "                discount += amount * 0.1\n",
    "                per = 10\n",
    "            elif amount >= 500:\n",
    "                discount += amount * 0.05\n",
    "                per = 5\n",
    "            else:\n",
    "                discount = 0\n",
    "                per = 0\n",
    "            print(f\"Discount({per}%): -{discount}\")\n",
    "            \n",
    "            #Calculates final amount\n",
    "            final_amount = amount - discount\n",
    "            print(\"Total Amount:\",final_amount)\n",
    "            \n",
    "            print(\"-\"*45)\n",
    "            print(\"\\n\\n\")\n",
    "            break"
   ]
  },
  {
   "cell_type": "code",
   "execution_count": null,
   "id": "ba61104f-f989-4b46-b8ed-a52084c1f36d",
   "metadata": {},
   "outputs": [],
   "source": []
  }
 ],
 "metadata": {
  "kernelspec": {
   "display_name": "Python 3 (ipykernel)",
   "language": "python",
   "name": "python3"
  },
  "language_info": {
   "codemirror_mode": {
    "name": "ipython",
    "version": 3
   },
   "file_extension": ".py",
   "mimetype": "text/x-python",
   "name": "python",
   "nbconvert_exporter": "python",
   "pygments_lexer": "ipython3",
   "version": "3.12.6"
  }
 },
 "nbformat": 4,
 "nbformat_minor": 5
}
